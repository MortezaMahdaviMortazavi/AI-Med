{
  "nbformat": 4,
  "nbformat_minor": 0,
  "metadata": {
    "colab": {
      "provenance": [],
      "authorship_tag": "ABX9TyNfE83oQ3AwN7VrCs8fvpOK",
      "include_colab_link": true
    },
    "kernelspec": {
      "name": "python3",
      "display_name": "Python 3"
    },
    "language_info": {
      "name": "python"
    }
  },
  "cells": [
    {
      "cell_type": "markdown",
      "metadata": {
        "id": "view-in-github",
        "colab_type": "text"
      },
      "source": [
        "<a href=\"https://colab.research.google.com/github/MortezaMahdaviMortazavi/DeepLearning-Introduction/blob/master/RNN.ipynb\" target=\"_parent\"><img src=\"https://colab.research.google.com/assets/colab-badge.svg\" alt=\"Open In Colab\"/></a>"
      ]
    },
    {
      "cell_type": "code",
      "execution_count": 31,
      "metadata": {
        "id": "zCJRZA9eqbYd"
      },
      "outputs": [],
      "source": [
        "import torch\n",
        "import torch.nn as nn\n",
        "import numpy as np\n",
        "import tensorflow as tf\n",
        "import string"
      ]
    },
    {
      "cell_type": "code",
      "source": [
        "path_to_file = tf.keras.utils.get_file('shakespeare.txt', \n",
        "                                       'https://storage.googleapis.com/download.tensorflow.org/data/shakespeare.txt')"
      ],
      "metadata": {
        "colab": {
          "base_uri": "https://localhost:8080/"
        },
        "id": "Qo9WuiP5qiCU",
        "outputId": "22eaeef0-9d21-4bcf-81a5-28eee2a945d4"
      },
      "execution_count": 18,
      "outputs": [
        {
          "output_type": "stream",
          "name": "stdout",
          "text": [
            "Downloading data from https://storage.googleapis.com/download.tensorflow.org/data/shakespeare.txt\n",
            "1115394/1115394 [==============================] - 0s 0us/step\n"
          ]
        }
      ]
    },
    {
      "cell_type": "code",
      "source": [
        "text = open(path_to_file, 'rb').read()\n",
        "text = text.decode(encoding='utf-8')\n",
        "print ('Total number of characters in the corpus is:', len(text))\n",
        "print('The first 100 characters of the corpus are as follows:\\n', text[:100])"
      ],
      "metadata": {
        "colab": {
          "base_uri": "https://localhost:8080/"
        },
        "id": "gVugD-Bgr7Xh",
        "outputId": "ad7a40e6-460c-4f89-aebf-fe940e8351aa"
      },
      "execution_count": 24,
      "outputs": [
        {
          "output_type": "stream",
          "name": "stdout",
          "text": [
            "Total number of characters in the corpus is: 1115394\n",
            "The first 100 characters of the corpus are as follows:\n",
            " First Citizen:\n",
            "Before we proceed any further, hear me speak.\n",
            "\n",
            "All:\n",
            "Speak, speak.\n",
            "\n",
            "First Citizen:\n",
            "You\n"
          ]
        }
      ]
    },
    {
      "cell_type": "code",
      "source": [
        "SOS_TOKEN = 0\n",
        "EOS_TOKEN = 1\n",
        "class Language:\n",
        "  def __init__(self,name):\n",
        "    self.name = name # name of target language\n",
        "    self.dataset = text.split()\n",
        "    self.vocab = len(sorted(text)) # all of unique character\n",
        "    self.word2count = {}\n",
        "    self.word2idx = {\n",
        "        \"SOS_TOKEN\":SOS_TOKEN,\n",
        "        \"EOS_TOKEN\":EOS_TOKEN\n",
        "    }\n",
        "    self.idx2word = {\n",
        "        SOS_TOKEN:\"SOS_TOKEN\",\n",
        "        EOS_TOKEN:\"EOS_TOKEN\"\n",
        "    }\n",
        "\n",
        "  def tokenizer(self):\n",
        "    current_idx = 2\n",
        "    for word in self.dataset:\n",
        "      if word not in self.word2idx:\n",
        "        insertedWord = word.replace(string.punctuation,'')\n",
        "        self.word2idx[insertedWord] = current_idx\n",
        "        self.idx2word[current_idx] = insertedWord\n",
        "        self.word2count[insertedWord] = 1\n",
        "        current_idx += 1\n",
        "      else:\n",
        "        self.word2count[insertedWord] += 1\n",
        "\n",
        "  @property\n",
        "  def getWord2Idx(self):\n",
        "    return self.word2idx\n",
        "  @property\n",
        "  def getIdx2Word(self):\n",
        "    return self.idx2word\n",
        "\n",
        "  @property\n",
        "  def getWord2Count(self):\n",
        "    return self.word2count\n",
        "\n",
        "  @property\n",
        "  def getCharacters(self):\n",
        "    return self.vocab"
      ],
      "metadata": {
        "id": "JLXMA7YhuiUo"
      },
      "execution_count": 34,
      "outputs": []
    },
    {
      "cell_type": "code",
      "source": [
        "language = Language('English')\n",
        "language.tokenizer()\n",
        "word2idx = language.getWord2Idx\n",
        "idx2word = language.getIdx2Word\n",
        "word2count = language.getWord2Count"
      ],
      "metadata": {
        "id": "PBX1iENExNgc"
      },
      "execution_count": 36,
      "outputs": []
    },
    {
      "cell_type": "code",
      "source": [
        "class Encoder(nn.Module):\n",
        "  def __init__(self,language_size,emb_dim):\n",
        "    super().__init__()\n",
        "    self.embedding = nn.Sequential(\n",
        "        nn.Embedding(num_embeddings=language_size,embedding_dim=emb_dim),\n",
        "        nn.Dropout(0.2)\n",
        "    )\n",
        "    self.lstm = nn.Sequential(\n",
        "        nn.LSTM(),\n",
        "        nn.BatchNorm(),\n",
        "        nn.Dropout\n",
        "    )"
      ],
      "metadata": {
        "id": "miXhMmmo0M8i"
      },
      "execution_count": 43,
      "outputs": []
    },
    {
      "cell_type": "code",
      "source": [
        "class Decoder(nn.Module):\n",
        "  def __init__(self):\n",
        "    super().__init__()"
      ],
      "metadata": {
        "id": "VpnPl3Wn2xff"
      },
      "execution_count": 38,
      "outputs": []
    },
    {
      "cell_type": "code",
      "source": [
        "class Attention(nn.Module):\n",
        "  def __init__(self):\n",
        "    super().__init__()"
      ],
      "metadata": {
        "id": "OdA2JtSz2yJS"
      },
      "execution_count": 39,
      "outputs": []
    },
    {
      "cell_type": "code",
      "source": [
        "class Transformer(nn.Module):\n",
        "  def __init__(self):\n",
        "    super().__init__()"
      ],
      "metadata": {
        "id": "bvugOen126fW"
      },
      "execution_count": 40,
      "outputs": []
    },
    {
      "cell_type": "code",
      "source": [
        "class Seq2Seq(nn.Module):\n",
        "  def __init__(self):\n",
        "    super().__init__()"
      ],
      "metadata": {
        "id": "4hr4d1WV2yrG"
      },
      "execution_count": 41,
      "outputs": []
    },
    {
      "cell_type": "code",
      "source": [],
      "metadata": {
        "id": "8JzYSHYR3Ajf"
      },
      "execution_count": null,
      "outputs": []
    }
  ]
}