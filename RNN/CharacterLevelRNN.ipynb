{
  "nbformat": 4,
  "nbformat_minor": 0,
  "metadata": {
    "colab": {
      "provenance": [],
      "authorship_tag": "ABX9TyOqO1yv47dttu5FD2V1Bj6k",
      "include_colab_link": true
    },
    "kernelspec": {
      "name": "python3",
      "display_name": "Python 3"
    },
    "language_info": {
      "name": "python"
    },
    "accelerator": "GPU",
    "gpuClass": "standard"
  },
  "cells": [
    {
      "cell_type": "markdown",
      "metadata": {
        "id": "view-in-github",
        "colab_type": "text"
      },
      "source": [
        "<a href=\"https://colab.research.google.com/github/MortezaMahdaviMortazavi/DeepLearning-Introduction/blob/master/RNN/CharacterLevelRNN.ipynb\" target=\"_parent\"><img src=\"https://colab.research.google.com/assets/colab-badge.svg\" alt=\"Open In Colab\"/></a>"
      ]
    },
    {
      "cell_type": "code",
      "execution_count": 1,
      "metadata": {
        "id": "1tBoMMLwklug"
      },
      "outputs": [],
      "source": [
        "import torch\n",
        "import torch.nn as nn\n",
        "import torch.nn.functional as F\n",
        "from torch.autograd import Variable\n",
        "import numpy as np\n",
        "import string"
      ]
    },
    {
      "cell_type": "code",
      "source": [
        "file = open('dinos.txt','r').read()\n",
        "names = file.split('\\n')\n",
        "string.printable"
      ],
      "metadata": {
        "colab": {
          "base_uri": "https://localhost:8080/",
          "height": 36
        },
        "id": "gM0lNCtIlLbT",
        "outputId": "59aef48e-0099-433c-b2d6-1c520ed9655a"
      },
      "execution_count": 2,
      "outputs": [
        {
          "output_type": "execute_result",
          "data": {
            "text/plain": [
              "'0123456789abcdefghijklmnopqrstuvwxyzABCDEFGHIJKLMNOPQRSTUVWXYZ!\"#$%&\\'()*+,-./:;<=>?@[\\\\]^_`{|}~ \\t\\n\\r\\x0b\\x0c'"
            ],
            "application/vnd.google.colaboratory.intrinsic+json": {
              "type": "string"
            }
          },
          "metadata": {},
          "execution_count": 2
        }
      ]
    },
    {
      "cell_type": "code",
      "source": [
        "def character_tokenizer():\n",
        "  all_characters = string.printable\n",
        "  char2int = {}\n",
        "  int2char = {}\n",
        "  index = 0\n",
        "  for ch in all_characters:\n",
        "    char2int[ch] = index\n",
        "    int2char[index] = ch\n",
        "    index+=1\n",
        "    \n",
        "  return char2int , int2char"
      ],
      "metadata": {
        "id": "BUXpbhE7lVlO"
      },
      "execution_count": 3,
      "outputs": []
    },
    {
      "cell_type": "code",
      "source": [
        "class RNNGenerator(nn.Module):\n",
        "  def __init__(self,input_dim,hidden_dim,output_dim,num_layers):\n",
        "    super(RNNGenerator,self).__init__()\n",
        "    self.hidden_dim = hidden_dim\n",
        "    self.num_layers = num_layers\n",
        "    # input_dim = length of embedding vector\n",
        "    # hidden_dim = number of nodes in each layer of rnn\n",
        "    # output_dim = number of output characters\n",
        "    self.dropout = nn.Dropout(0.2)\n",
        "    self.bn = nn.BatchNorm1d(output_dim)\n",
        "    self.embedding = nn.Embedding(input_dim,hidden_dim)\n",
        "    self.rnn = nn.GRU(input_size=hidden_dim,hidden_size=hidden_dim,num_layers=num_layers)\n",
        "    self.fc = nn.Linear(hidden_dim,output_dim)\n",
        "\n",
        "  def forward(self,X,hidden):\n",
        "    embed_out = self.embedding(X) # Shape : None\n",
        "    embed_out = self.dropout(embed_out) # Shape : None\n",
        "\n",
        "    rnn_out , hidden = self.rnn(embed_out.unsqueeze(1),hidden) # Shape : None\n",
        "    rnn_out = self.dropout(rnn_out.reshape(rnn_out.shape[0],-1))\n",
        "    decode_out = self.fc(rnn_out)\n",
        "    # decode_out = self.bn(decode_out)\n",
        "    return decode_out , hidden\n",
        "\n",
        "  def init_hidden(self,batch_size,D=False): # D is true if our rnn is a bidirectional rnn\n",
        "    coeff_ = 2 if D is True else 1\n",
        "    hidden = Variable(torch.zeros(coeff_*self.num_layers,batch_size,self.hidden_dim))\n",
        "    return hidden"
      ],
      "metadata": {
        "id": "0LyVgJJglhpu"
      },
      "execution_count": 4,
      "outputs": []
    },
    {
      "cell_type": "code",
      "source": [
        "class ConvolutionGenerator(nn.Module):\n",
        "  def __init__(self):\n",
        "    pass\n",
        "\n",
        "  def forward(self):\n",
        "    pass"
      ],
      "metadata": {
        "id": "IZpAd--8pHDN"
      },
      "execution_count": 5,
      "outputs": []
    },
    {
      "cell_type": "code",
      "source": [
        "class Generator:\n",
        "  def __init__(self):\n",
        "    self.chunk_len = 250\n",
        "    self.n_epochs = 5000\n",
        "    self.batch_size = 1\n",
        "    self.print_every_epoch = 50\n",
        "    self.lr = 0.002\n",
        "    self.num_layers = 3\n",
        "    self.hidden_dim = 256\n",
        "    self.input_dim = 100\n",
        "    self.output_dim = 100\n",
        "    self.train_loss = np.zeros(5000)\n",
        "\n",
        "  def char2tensor(self,string):\n",
        "    char2int = character_tokenizer()[0]\n",
        "    tensor = torch.zeros(len(string)).long()\n",
        "    for ch in range(len(string)):\n",
        "      tensor[ch] = char2int[string[ch]]\n",
        "    \n",
        "    return tensor\n",
        "\n",
        "  def setSettings(self):\n",
        "    self.rnn = RNNGenerator(self.input_dim,self.hidden_dim,self.output_dim,self.num_layers)\n",
        "    self.optimizer = torch.optim.Adam(filter(\n",
        "        lambda p:p.requires_grad,rnn.parameters()\n",
        "      ),lr=self.lr\n",
        "    )\n",
        "    self.criterion = nn.CrossEntropyLoss()\n",
        "    self.self.device = torch.self.device('cuda' if torch.cuda.is_available() else 'cpu')\n",
        "\n",
        "  def get_random_batch(self):\n",
        "    char2int = character_tokenizer()[0]\n",
        "    start_idx = np.random.randint(0,len(file)-self.chunk_len)\n",
        "    end_idx = start_idx + self.chunk_len + 1\n",
        "    chunk = file[start_idx:end_idx]\n",
        "    inp_tensor = torch.zeros(self.batch_size,self.chunk_len)\n",
        "    target_tensor = torch.zeros(self.batch_size,self.chunk_len)\n",
        "\n",
        "    for idx in range(self.batch_size):\n",
        "      inp_tensor[idx,:] = self.char2tensor(chunk[:-1])\n",
        "      target_tensor[idx,:] = self.char2tensor(chunk[1:])\n",
        "\n",
        "    inp_tensor = inp_tensor.long()\n",
        "    target_tensor = target_tensor.long()\n",
        "    return inp_tensor,target_tensor \n",
        "\n",
        "\n",
        "  def train(self):\n",
        "    self.setSettings()\n",
        "    self.model = self.model.to(self.device)\n",
        "    self.model.train()\n",
        "\n",
        "    print(\"################## Start training #################\")\n",
        "    for epoch in range(1,self.n_epochs+1):\n",
        "      _input , target = self.get_random_batch()\n",
        "      _input = _input.to(self.device)\n",
        "      target = target.to(self.device)\n",
        "      hidden = self.model.init_hidden(batch_size=self.batch_size).to(self.device)\n",
        "      loss = 0\n",
        "\n",
        "      self.model.zero_grad()\n",
        "      for c in range(self.chunk_len):\n",
        "        output , hidden = self.model(_input[:,c],hidden)\n",
        "        loss+=self.criterion(output,target[:,c])\n",
        "\n",
        "      loss.backward()\n",
        "      self.optimizer.step()\n",
        "      loss = loss.item()/self.chunk_len\n",
        "      self.train_loss[epoch] = loss\n",
        "\n",
        "      if epoch % self.print_every_epoch==0:\n",
        "        print(f\"In epoch {epoch} loss is : {loss}\")\n",
        "\n",
        "    return self.train_loss\n",
        "\n",
        "  def generate(self,initial_string=\"Ba\",pred_length=100,temperature=0.85):\n",
        "    hidden = self.model.init_hidden(self.batch_size)\n",
        "    initial_inp = self.char2tensor(initial_string)\n",
        "    predicted = initial_string\n",
        "    for p in range(len(initial_inp)):\n",
        "      _ , hidden = self.model(initial_inp[p].view(1).to(self.device),hidden)\n",
        "    last_character = initial_inp[-1]\n",
        "\n"
      ],
      "metadata": {
        "id": "WPcjSQbTqXwt"
      },
      "execution_count": 26,
      "outputs": []
    },
    {
      "cell_type": "code",
      "source": [
        "loss = Generator().train()"
      ],
      "metadata": {
        "colab": {
          "base_uri": "https://localhost:8080/",
          "height": 397
        },
        "id": "EC7NTeUBr4XI",
        "outputId": "b4aa8581-b0a9-4b52-bbd5-0f1dd24486e3"
      },
      "execution_count": 27,
      "outputs": [
        {
          "output_type": "stream",
          "name": "stdout",
          "text": [
            "################## Start training #################\n",
            "In epoch 50 loss is : 2.15302001953125\n",
            "In epoch 100 loss is : 1.959154541015625\n",
            "In epoch 150 loss is : 2.0256160888671877\n"
          ]
        },
        {
          "output_type": "error",
          "ename": "KeyboardInterrupt",
          "evalue": "ignored",
          "traceback": [
            "\u001b[0;31m---------------------------------------------------------------------------\u001b[0m",
            "\u001b[0;31mKeyboardInterrupt\u001b[0m                         Traceback (most recent call last)",
            "\u001b[0;32m<ipython-input-27-7c29f1678830>\u001b[0m in \u001b[0;36m<module>\u001b[0;34m\u001b[0m\n\u001b[0;32m----> 1\u001b[0;31m \u001b[0mloss\u001b[0m \u001b[0;34m=\u001b[0m \u001b[0mGenerator\u001b[0m\u001b[0;34m(\u001b[0m\u001b[0;34m)\u001b[0m\u001b[0;34m.\u001b[0m\u001b[0mtrain\u001b[0m\u001b[0;34m(\u001b[0m\u001b[0;34m)\u001b[0m\u001b[0;34m\u001b[0m\u001b[0;34m\u001b[0m\u001b[0m\n\u001b[0m",
            "\u001b[0;32m<ipython-input-26-8cf6261e6f92>\u001b[0m in \u001b[0;36mtrain\u001b[0;34m(self)\u001b[0m\n\u001b[1;32m     63\u001b[0m       \u001b[0;32mfor\u001b[0m \u001b[0mc\u001b[0m \u001b[0;32min\u001b[0m \u001b[0mrange\u001b[0m\u001b[0;34m(\u001b[0m\u001b[0mself\u001b[0m\u001b[0;34m.\u001b[0m\u001b[0mchunk_len\u001b[0m\u001b[0;34m)\u001b[0m\u001b[0;34m:\u001b[0m\u001b[0;34m\u001b[0m\u001b[0;34m\u001b[0m\u001b[0m\n\u001b[1;32m     64\u001b[0m         \u001b[0moutput\u001b[0m \u001b[0;34m,\u001b[0m \u001b[0mhidden\u001b[0m \u001b[0;34m=\u001b[0m \u001b[0mmodel\u001b[0m\u001b[0;34m(\u001b[0m\u001b[0m_input\u001b[0m\u001b[0;34m[\u001b[0m\u001b[0;34m:\u001b[0m\u001b[0;34m,\u001b[0m\u001b[0mc\u001b[0m\u001b[0;34m]\u001b[0m\u001b[0;34m,\u001b[0m\u001b[0mhidden\u001b[0m\u001b[0;34m)\u001b[0m\u001b[0;34m\u001b[0m\u001b[0;34m\u001b[0m\u001b[0m\n\u001b[0;32m---> 65\u001b[0;31m         \u001b[0mloss\u001b[0m\u001b[0;34m+=\u001b[0m\u001b[0mcriterion\u001b[0m\u001b[0;34m(\u001b[0m\u001b[0moutput\u001b[0m\u001b[0;34m,\u001b[0m\u001b[0mtarget\u001b[0m\u001b[0;34m[\u001b[0m\u001b[0;34m:\u001b[0m\u001b[0;34m,\u001b[0m\u001b[0mc\u001b[0m\u001b[0;34m]\u001b[0m\u001b[0;34m)\u001b[0m\u001b[0;34m\u001b[0m\u001b[0;34m\u001b[0m\u001b[0m\n\u001b[0m\u001b[1;32m     66\u001b[0m \u001b[0;34m\u001b[0m\u001b[0m\n\u001b[1;32m     67\u001b[0m       \u001b[0mloss\u001b[0m\u001b[0;34m.\u001b[0m\u001b[0mbackward\u001b[0m\u001b[0;34m(\u001b[0m\u001b[0;34m)\u001b[0m\u001b[0;34m\u001b[0m\u001b[0;34m\u001b[0m\u001b[0m\n",
            "\u001b[0;32m/usr/local/lib/python3.8/dist-packages/torch/nn/modules/module.py\u001b[0m in \u001b[0;36m_call_impl\u001b[0;34m(self, *input, **kwargs)\u001b[0m\n\u001b[1;32m   1192\u001b[0m         if not (self._backward_hooks or self._forward_hooks or self._forward_pre_hooks or _global_backward_hooks\n\u001b[1;32m   1193\u001b[0m                 or _global_forward_hooks or _global_forward_pre_hooks):\n\u001b[0;32m-> 1194\u001b[0;31m             \u001b[0;32mreturn\u001b[0m \u001b[0mforward_call\u001b[0m\u001b[0;34m(\u001b[0m\u001b[0;34m*\u001b[0m\u001b[0minput\u001b[0m\u001b[0;34m,\u001b[0m \u001b[0;34m**\u001b[0m\u001b[0mkwargs\u001b[0m\u001b[0;34m)\u001b[0m\u001b[0;34m\u001b[0m\u001b[0;34m\u001b[0m\u001b[0m\n\u001b[0m\u001b[1;32m   1195\u001b[0m         \u001b[0;31m# Do not call functions when jit is used\u001b[0m\u001b[0;34m\u001b[0m\u001b[0;34m\u001b[0m\u001b[0;34m\u001b[0m\u001b[0m\n\u001b[1;32m   1196\u001b[0m         \u001b[0mfull_backward_hooks\u001b[0m\u001b[0;34m,\u001b[0m \u001b[0mnon_full_backward_hooks\u001b[0m \u001b[0;34m=\u001b[0m \u001b[0;34m[\u001b[0m\u001b[0;34m]\u001b[0m\u001b[0;34m,\u001b[0m \u001b[0;34m[\u001b[0m\u001b[0;34m]\u001b[0m\u001b[0;34m\u001b[0m\u001b[0;34m\u001b[0m\u001b[0m\n",
            "\u001b[0;32m/usr/local/lib/python3.8/dist-packages/torch/nn/modules/loss.py\u001b[0m in \u001b[0;36mforward\u001b[0;34m(self, input, target)\u001b[0m\n\u001b[1;32m   1172\u001b[0m \u001b[0;34m\u001b[0m\u001b[0m\n\u001b[1;32m   1173\u001b[0m     \u001b[0;32mdef\u001b[0m \u001b[0mforward\u001b[0m\u001b[0;34m(\u001b[0m\u001b[0mself\u001b[0m\u001b[0;34m,\u001b[0m \u001b[0minput\u001b[0m\u001b[0;34m:\u001b[0m \u001b[0mTensor\u001b[0m\u001b[0;34m,\u001b[0m \u001b[0mtarget\u001b[0m\u001b[0;34m:\u001b[0m \u001b[0mTensor\u001b[0m\u001b[0;34m)\u001b[0m \u001b[0;34m->\u001b[0m \u001b[0mTensor\u001b[0m\u001b[0;34m:\u001b[0m\u001b[0;34m\u001b[0m\u001b[0;34m\u001b[0m\u001b[0m\n\u001b[0;32m-> 1174\u001b[0;31m         return F.cross_entropy(input, target, weight=self.weight,\n\u001b[0m\u001b[1;32m   1175\u001b[0m                                \u001b[0mignore_index\u001b[0m\u001b[0;34m=\u001b[0m\u001b[0mself\u001b[0m\u001b[0;34m.\u001b[0m\u001b[0mignore_index\u001b[0m\u001b[0;34m,\u001b[0m \u001b[0mreduction\u001b[0m\u001b[0;34m=\u001b[0m\u001b[0mself\u001b[0m\u001b[0;34m.\u001b[0m\u001b[0mreduction\u001b[0m\u001b[0;34m,\u001b[0m\u001b[0;34m\u001b[0m\u001b[0;34m\u001b[0m\u001b[0m\n\u001b[1;32m   1176\u001b[0m                                label_smoothing=self.label_smoothing)\n",
            "\u001b[0;32m/usr/local/lib/python3.8/dist-packages/torch/nn/functional.py\u001b[0m in \u001b[0;36mcross_entropy\u001b[0;34m(input, target, weight, size_average, ignore_index, reduce, reduction, label_smoothing)\u001b[0m\n\u001b[1;32m   3024\u001b[0m     \u001b[0;32mif\u001b[0m \u001b[0msize_average\u001b[0m \u001b[0;32mis\u001b[0m \u001b[0;32mnot\u001b[0m \u001b[0;32mNone\u001b[0m \u001b[0;32mor\u001b[0m \u001b[0mreduce\u001b[0m \u001b[0;32mis\u001b[0m \u001b[0;32mnot\u001b[0m \u001b[0;32mNone\u001b[0m\u001b[0;34m:\u001b[0m\u001b[0;34m\u001b[0m\u001b[0;34m\u001b[0m\u001b[0m\n\u001b[1;32m   3025\u001b[0m         \u001b[0mreduction\u001b[0m \u001b[0;34m=\u001b[0m \u001b[0m_Reduction\u001b[0m\u001b[0;34m.\u001b[0m\u001b[0mlegacy_get_string\u001b[0m\u001b[0;34m(\u001b[0m\u001b[0msize_average\u001b[0m\u001b[0;34m,\u001b[0m \u001b[0mreduce\u001b[0m\u001b[0;34m)\u001b[0m\u001b[0;34m\u001b[0m\u001b[0;34m\u001b[0m\u001b[0m\n\u001b[0;32m-> 3026\u001b[0;31m     \u001b[0;32mreturn\u001b[0m \u001b[0mtorch\u001b[0m\u001b[0;34m.\u001b[0m\u001b[0m_C\u001b[0m\u001b[0;34m.\u001b[0m\u001b[0m_nn\u001b[0m\u001b[0;34m.\u001b[0m\u001b[0mcross_entropy_loss\u001b[0m\u001b[0;34m(\u001b[0m\u001b[0minput\u001b[0m\u001b[0;34m,\u001b[0m \u001b[0mtarget\u001b[0m\u001b[0;34m,\u001b[0m \u001b[0mweight\u001b[0m\u001b[0;34m,\u001b[0m \u001b[0m_Reduction\u001b[0m\u001b[0;34m.\u001b[0m\u001b[0mget_enum\u001b[0m\u001b[0;34m(\u001b[0m\u001b[0mreduction\u001b[0m\u001b[0;34m)\u001b[0m\u001b[0;34m,\u001b[0m \u001b[0mignore_index\u001b[0m\u001b[0;34m,\u001b[0m \u001b[0mlabel_smoothing\u001b[0m\u001b[0;34m)\u001b[0m\u001b[0;34m\u001b[0m\u001b[0;34m\u001b[0m\u001b[0m\n\u001b[0m\u001b[1;32m   3027\u001b[0m \u001b[0;34m\u001b[0m\u001b[0m\n\u001b[1;32m   3028\u001b[0m \u001b[0;34m\u001b[0m\u001b[0m\n",
            "\u001b[0;31mKeyboardInterrupt\u001b[0m: "
          ]
        }
      ]
    },
    {
      "cell_type": "code",
      "source": [
        "x = torch.zeros(2,2)\n",
        "x.unsqueeze(1).shape"
      ],
      "metadata": {
        "colab": {
          "base_uri": "https://localhost:8080/"
        },
        "id": "ZqI9Wf6Lr8-n",
        "outputId": "f98e47f9-c5b5-4460-e042-3e2428562e0f"
      },
      "execution_count": 77,
      "outputs": [
        {
          "output_type": "execute_result",
          "data": {
            "text/plain": [
              "torch.Size([2, 1, 2])"
            ]
          },
          "metadata": {},
          "execution_count": 77
        }
      ]
    },
    {
      "cell_type": "code",
      "source": [],
      "metadata": {
        "id": "niVD1ImgvN1k"
      },
      "execution_count": null,
      "outputs": []
    }
  ]
}