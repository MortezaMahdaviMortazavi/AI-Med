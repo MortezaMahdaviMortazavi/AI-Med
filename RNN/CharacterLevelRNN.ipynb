{
  "nbformat": 4,
  "nbformat_minor": 0,
  "metadata": {
    "colab": {
      "provenance": [],
      "authorship_tag": "ABX9TyOlVtIWR0ahSRTGsDFnGaVD",
      "include_colab_link": true
    },
    "kernelspec": {
      "name": "python3",
      "display_name": "Python 3"
    },
    "language_info": {
      "name": "python"
    },
    "accelerator": "GPU",
    "gpuClass": "standard"
  },
  "cells": [
    {
      "cell_type": "markdown",
      "metadata": {
        "id": "view-in-github",
        "colab_type": "text"
      },
      "source": [
        "<a href=\"https://colab.research.google.com/github/MortezaMahdaviMortazavi/DeepLearning-Introduction/blob/master/RNN/CharacterLevelRNN.ipynb\" target=\"_parent\"><img src=\"https://colab.research.google.com/assets/colab-badge.svg\" alt=\"Open In Colab\"/></a>"
      ]
    },
    {
      "cell_type": "code",
      "execution_count": 19,
      "metadata": {
        "id": "1tBoMMLwklug"
      },
      "outputs": [],
      "source": [
        "import torch\n",
        "import torch.nn as nn\n",
        "import torch.nn.functional as F\n",
        "from torch.autograd import Variable\n",
        "import numpy as np\n",
        "import string\n",
        "import matplotlib.pyplot as plt"
      ]
    },
    {
      "cell_type": "code",
      "source": [
        "file = open('dinos.txt','r').read()\n",
        "names = file.split('\\n')\n",
        "string.printable"
      ],
      "metadata": {
        "colab": {
          "base_uri": "https://localhost:8080/",
          "height": 36
        },
        "id": "gM0lNCtIlLbT",
        "outputId": "1eaa4421-dce7-47d9-917c-787a84f93909"
      },
      "execution_count": 3,
      "outputs": [
        {
          "output_type": "execute_result",
          "data": {
            "text/plain": [
              "'0123456789abcdefghijklmnopqrstuvwxyzABCDEFGHIJKLMNOPQRSTUVWXYZ!\"#$%&\\'()*+,-./:;<=>?@[\\\\]^_`{|}~ \\t\\n\\r\\x0b\\x0c'"
            ],
            "application/vnd.google.colaboratory.intrinsic+json": {
              "type": "string"
            }
          },
          "metadata": {},
          "execution_count": 3
        }
      ]
    },
    {
      "cell_type": "code",
      "source": [
        "def character_tokenizer():\n",
        "  all_characters = string.printable\n",
        "  char2int = {}\n",
        "  int2char = {}\n",
        "  index = 0\n",
        "  for ch in all_characters:\n",
        "    char2int[ch] = index\n",
        "    int2char[index] = ch\n",
        "    index+=1\n",
        "    \n",
        "  return char2int , int2char\n"
      ],
      "metadata": {
        "id": "BUXpbhE7lVlO"
      },
      "execution_count": 4,
      "outputs": []
    },
    {
      "cell_type": "code",
      "source": [
        "class RNNGenerator(nn.Module):\n",
        "  def __init__(self,input_dim,hidden_dim,output_dim,num_layers):\n",
        "    super(RNNGenerator,self).__init__()\n",
        "    self.hidden_dim = hidden_dim\n",
        "    self.num_layers = num_layers\n",
        "    # input_dim = length of embedding vector\n",
        "    # hidden_dim = number of nodes in each layer of rnn\n",
        "    # output_dim = number of output characters\n",
        "    self.dropout = nn.Dropout(0.2)\n",
        "    self.bn = nn.BatchNorm1d(output_dim)\n",
        "    self.embedding = nn.Embedding(input_dim,hidden_dim)\n",
        "    self.rnn = nn.GRU(input_size=hidden_dim,hidden_size=hidden_dim,num_layers=num_layers)\n",
        "    self.fc = nn.Linear(hidden_dim,output_dim)\n",
        "\n",
        "  def forward(self,X,hidden):\n",
        "    embed_out = self.embedding(X) # Shape : None\n",
        "    embed_out = self.dropout(embed_out) # Shape : None\n",
        "\n",
        "    rnn_out , hidden = self.rnn(embed_out.unsqueeze(1),hidden) # Shape : None\n",
        "    rnn_out = self.dropout(rnn_out.reshape(rnn_out.shape[0],-1))\n",
        "    decode_out = self.fc(rnn_out)\n",
        "    # decode_out = self.bn(decode_out)\n",
        "    return decode_out , hidden\n",
        "\n",
        "  def init_hidden(self,batch_size,D=False): # D is true if our rnn is a bidirectional rnn\n",
        "    coeff_ = 2 if D is True else 1\n",
        "    hidden = Variable(torch.zeros(coeff_*self.num_layers,batch_size,self.hidden_dim))\n",
        "    return hidden"
      ],
      "metadata": {
        "id": "0LyVgJJglhpu"
      },
      "execution_count": 5,
      "outputs": []
    },
    {
      "cell_type": "code",
      "source": [
        "class ConvolutionGenerator(nn.Module):\n",
        "  def __init__(self):\n",
        "    pass\n",
        "\n",
        "  def forward(self):\n",
        "    pass"
      ],
      "metadata": {
        "id": "IZpAd--8pHDN"
      },
      "execution_count": 6,
      "outputs": []
    },
    {
      "cell_type": "code",
      "source": [
        "class Generator:\n",
        "  def __init__(self):\n",
        "    self.chunk_len = 250\n",
        "    self.n_epochs = 3000\n",
        "    self.batch_size = 1\n",
        "    self.print_every_epoch = 100\n",
        "    self.lr = 0.002\n",
        "    self.num_layers = 3\n",
        "    self.hidden_dim = 256\n",
        "    self.input_dim = 100\n",
        "    self.output_dim = 100\n",
        "    self.train_loss = np.zeros(3100)\n",
        "\n",
        "  def char2tensor(self,string):\n",
        "    char2int = character_tokenizer()[0]\n",
        "    tensor = torch.zeros(len(string)).long()\n",
        "    for ch in range(len(string)):\n",
        "      tensor[ch] = char2int[string[ch]]\n",
        "    \n",
        "    return tensor\n",
        "\n",
        "  def setSettings(self):\n",
        "    self.model = RNNGenerator(self.input_dim,self.hidden_dim,self.output_dim,self.num_layers)\n",
        "    self.optimizer = torch.optim.Adam(filter(\n",
        "        lambda p:p.requires_grad,self.model.parameters()\n",
        "      ),lr=self.lr\n",
        "    )\n",
        "    self.criterion = nn.CrossEntropyLoss()\n",
        "    self.device = torch.device('cuda' if torch.cuda.is_available() else 'cpu')\n",
        "\n",
        "  def get_random_batch(self):\n",
        "    char2int = character_tokenizer()[0]\n",
        "    start_idx = np.random.randint(0,len(file)-self.chunk_len)\n",
        "    end_idx = start_idx + self.chunk_len + 1\n",
        "    chunk = file[start_idx:end_idx]\n",
        "    inp_tensor = torch.zeros(self.batch_size,self.chunk_len)\n",
        "    target_tensor = torch.zeros(self.batch_size,self.chunk_len)\n",
        "\n",
        "    for idx in range(self.batch_size):\n",
        "      inp_tensor[idx,:] = self.char2tensor(chunk[:-1])\n",
        "      target_tensor[idx,:] = self.char2tensor(chunk[1:])\n",
        "\n",
        "    inp_tensor = inp_tensor.long()\n",
        "    target_tensor = target_tensor.long()\n",
        "    return inp_tensor,target_tensor\n",
        "\n",
        "  def generate(self, initial_str=\"A\", predict_len=20, temperature=0.85):\n",
        "    int2char = character_tokenizer()[1]\n",
        "    hidden = self.model.init_hidden(batch_size=self.batch_size).to(self.device)\n",
        "    initial_input = self.char2tensor(initial_str).to(self.device)\n",
        "    predicted = initial_str\n",
        "\n",
        "    for p in range(len(initial_str) - 1):\n",
        "        _, hidden = self.model(\n",
        "            initial_input[p].view(1).to(self.device), hidden.to(self.device)\n",
        "        )\n",
        "\n",
        "    last_char = initial_input[-1]\n",
        "\n",
        "    for p in range(predict_len):\n",
        "        output, hidden = self.model(\n",
        "            last_char.view(1).to(self.device), hidden.to(self.device)\n",
        "        )\n",
        "        output_dist = output.data.view(-1).div(temperature).exp()\n",
        "        top_char = torch.multinomial(output_dist, 1)[0]\n",
        "        predicted_char = int2char[int(top_char.cpu())]\n",
        "        predicted += predicted_char\n",
        "        last_char = self.char2tensor(predicted_char)\n",
        "\n",
        "    return predicted \n",
        "\n",
        "\n",
        "  def train(self):\n",
        "    self.setSettings()\n",
        "    self.model = self.model.to(self.device)\n",
        "    self.model.train()\n",
        "\n",
        "    print(\"################## Start training #################\")\n",
        "    for epoch in range(1,self.n_epochs+1):\n",
        "      _input , target = self.get_random_batch()\n",
        "      _input = _input.to(self.device)\n",
        "      target = target.to(self.device)\n",
        "      hidden = self.model.init_hidden(batch_size=self.batch_size).to(self.device)\n",
        "      loss = 0\n",
        "\n",
        "      self.model.zero_grad()\n",
        "      for c in range(self.chunk_len):\n",
        "        output , hidden = self.model(_input[:,c],hidden)\n",
        "        loss+=self.criterion(output,target[:,c])\n",
        "\n",
        "      loss.backward()\n",
        "      self.optimizer.step()\n",
        "      loss = loss.item()/self.chunk_len\n",
        "      self.train_loss[epoch] = loss\n",
        "\n",
        "      if epoch % self.print_every_epoch==0:\n",
        "        print(f\"In epoch {epoch} loss is : {loss}\")\n",
        "        print(self.generate())\n",
        "\n",
        "    return self.train_loss\n"
      ],
      "metadata": {
        "id": "WPcjSQbTqXwt"
      },
      "execution_count": 15,
      "outputs": []
    },
    {
      "cell_type": "code",
      "source": [
        "generator = Generator()\n",
        "train_loss = generator.train()"
      ],
      "metadata": {
        "colab": {
          "base_uri": "https://localhost:8080/"
        },
        "id": "EC7NTeUBr4XI",
        "outputId": "7f0ad29b-2bc0-4839-c1c4-c9ada39b753a"
      },
      "execution_count": 16,
      "outputs": [
        {
          "output_type": "stream",
          "name": "stdout",
          "text": [
            "################## Start training #################\n",
            "In epoch 100 loss is : 2.054987548828125\n",
            "Artosaurus\n",
            "Oronhomier\n",
            "In epoch 200 loss is : 1.7343463134765624\n",
            "Arator\n",
            "Fapenngosaurus\n",
            "In epoch 300 loss is : 1.8339779052734375\n",
            "Avelodon\n",
            "Nulatonyasia\n",
            "In epoch 400 loss is : 1.80342578125\n",
            "Artosaurus\n",
            "Karchasaur\n",
            "In epoch 500 loss is : 1.9094437255859376\n",
            "Andalasaurus\n",
            "Sucomapr\n",
            "In epoch 600 loss is : 1.4764483642578126\n",
            "Asaurus\n",
            "Chiondocephal\n",
            "In epoch 700 loss is : 1.340015625\n",
            "Anghiongia\n",
            "Aklodon\n",
            "Al\n",
            "In epoch 800 loss is : 0.952197021484375\n",
            "Auma\n",
            "Asiasaurus\n",
            "Acher\n",
            "In epoch 900 loss is : 1.0219826049804688\n",
            "Avatrodon\n",
            "Crichilopho\n",
            "In epoch 1000 loss is : 0.6531767578125\n",
            "Antanisaurus\n",
            "Pachysuc\n",
            "In epoch 1100 loss is : 0.547292724609375\n",
            "Anglong\n",
            "Axalaeosaurus\n",
            "In epoch 1200 loss is : 1.448139892578125\n",
            "Arnathysis\n",
            "Ephoenosau\n",
            "In epoch 1300 loss is : 0.5496004028320313\n",
            "Agnathus\n",
            "Austaia\n",
            "Athc\n",
            "In epoch 1400 loss is : 0.42833642578125\n",
            "Amargosaurus\n",
            "Ategocer\n",
            "In epoch 1500 loss is : 0.426267822265625\n",
            "Argosaurus\n",
            "Asiacerato\n",
            "In epoch 1600 loss is : 0.4087487487792969\n",
            "Aliasaurus\n",
            "Almisaurus\n",
            "In epoch 1700 loss is : 0.3480182495117187\n",
            "Abrosaurus\n",
            "Ajiangosau\n",
            "In epoch 1800 loss is : 0.5310547485351562\n",
            "Aurus\n",
            "Albertadromeeto\n",
            "In epoch 1900 loss is : 0.36810525512695313\n",
            "Ankosaurus\n",
            "Astroposei\n",
            "In epoch 2000 loss is : 0.283287109375\n",
            "Antarcellisaurus\n",
            "Almo\n",
            "In epoch 2100 loss is : 0.37741741943359375\n",
            "Archaeopteryx\n",
            "Archaeo\n",
            "In epoch 2200 loss is : 0.479138916015625\n",
            "Ampodon\n",
            "Apatodon\n",
            "Apat\n",
            "In epoch 2300 loss is : 0.2779007263183594\n",
            "Ajimimus\n",
            "Avisaurus\n",
            "Av\n",
            "In epoch 2400 loss is : 0.18506825256347656\n",
            "Amtosuchus\n",
            "Avaceratop\n",
            "In epoch 2500 loss is : 0.3046546325683594\n",
            "Arrasaurus\n",
            "Argyrosaur\n",
            "In epoch 2600 loss is : 0.2802794189453125\n",
            "Archaeornithomimus\n",
            "Ar\n",
            "In epoch 2700 loss is : 0.19961372375488282\n",
            "Agyptosaurus\n",
            "Ampelosa\n",
            "In epoch 2800 loss is : 0.16428591918945312\n",
            "Angosaurus\n",
            "Avaceratop\n",
            "In epoch 2900 loss is : 0.22789729309082032\n",
            "Arcomimus\n",
            "Afromia\n",
            "Anc\n",
            "In epoch 3000 loss is : 0.25988397216796877\n",
            "AngArosaurus\n",
            "Aublysod\n"
          ]
        }
      ]
    },
    {
      "cell_type": "code",
      "source": [
        "generator.generate().split('\\n')"
      ],
      "metadata": {
        "colab": {
          "base_uri": "https://localhost:8080/"
        },
        "id": "ZqI9Wf6Lr8-n",
        "outputId": "fdb3c70e-df49-40d3-d9f9-07357943c79d"
      },
      "execution_count": 18,
      "outputs": [
        {
          "output_type": "execute_result",
          "data": {
            "text/plain": [
              "['Anschia', 'Therioceratop']"
            ]
          },
          "metadata": {},
          "execution_count": 18
        }
      ]
    },
    {
      "cell_type": "code",
      "source": [
        "plt.figure(figsize=(16,7))\n",
        "plt.plot(train_loss,c='red',label='Train Loss')\n",
        "plt.legend()\n",
        "plt.show()"
      ],
      "metadata": {
        "id": "niVD1ImgvN1k",
        "colab": {
          "base_uri": "https://localhost:8080/",
          "height": 428
        },
        "outputId": "c4f21743-d388-4124-a6e8-2ad00fe9a5b4"
      },
      "execution_count": 30,
      "outputs": [
        {
          "output_type": "display_data",
          "data": {
            "text/plain": [
              "<Figure size 1152x504 with 1 Axes>"
            ],
            "image/png": "[encoded data removed]"
          },
          "metadata": {
            "needs_background": "light"
          }
        }
      ]
    },
    {
      "cell_type": "code",
      "source": [],
      "metadata": {
        "id": "r4xVQJDKEFbr"
      },
      "execution_count": null,
      "outputs": []
    }
  ]
}